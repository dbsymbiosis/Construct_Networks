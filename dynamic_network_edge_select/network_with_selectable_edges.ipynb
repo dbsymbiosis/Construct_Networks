{
 "cells": [
  {
   "cell_type": "code",
   "execution_count": 110,
   "metadata": {},
   "outputs": [
    {
     "data": {
      "application/vnd.jupyter.widget-view+json": {
       "model_id": "f0b989b6fdda4c798335e1cc886b03e5",
       "version_major": 2,
       "version_minor": 0
      },
      "text/plain": [
       "VBox(children=(HBox(children=(Checkbox(value=False, description='(4851) XTWYTFMLZFPYCI-KQYNXXCUSA-N'), Checkbo…"
      ]
     },
     "metadata": {},
     "output_type": "display_data"
    }
   ],
   "source": [
    "from ipywidgets import Layout, Button, VBox, HBox, Label, Checkbox, interactive\n",
    "from IPython.display import display\n",
    "import sys\n",
    "sys.path.append(r'c:\\users\\thech\\anaconda3\\lib\\site-packages')\n",
    "from pyvis.network import Network\n",
    "import networkx as nx\n",
    "\n",
    "def make_Networkx_graph(nodes_file, edges_file, group_colors, files_have_header=True):\n",
    "    net = nx.Graph()\n",
    "    \n",
    "    # Add nodes\n",
    "    with open(nodes_file, 'r') as f:\n",
    "        if files_have_header:\n",
    "            next(f)\n",
    "        \n",
    "        for line in f:\n",
    "            line = line.strip()\n",
    "            # Skip blank or comment lines\n",
    "            if not line or line.startswith('#'):\n",
    "                continue \n",
    "            \n",
    "            line_split = line.split('\\t')\n",
    "            ID = line_split[0]\n",
    "            label = line_split[0]\n",
    "            title = line_split[2]\n",
    "            color = group_colors[line_split[1]]\n",
    "            \n",
    "            net.add_node(ID, label=label, title=title, color=color)\n",
    "    \n",
    "    # Add edges\n",
    "    with open(edges_file, 'r') as f:\n",
    "        if files_have_header:\n",
    "            next(f)\n",
    "        \n",
    "        for line in f:\n",
    "            line = line.strip()\n",
    "            # Skip blank or comment lines\n",
    "            if not line or line.startswith('#'):\n",
    "                continue \n",
    "            \n",
    "            line_split = line.split('\\t')\n",
    "            source = line_split[0]\n",
    "            to = line_split[1]\n",
    "            value = line_split[2]\n",
    "            title = line_split[2]\n",
    "            hidden = False\n",
    "            physics = True\n",
    "            net.add_edge(source, to, value=value, title=title, hidden=hidden, physics=physics)\n",
    "    \n",
    "    #print(list(net.edges))\n",
    "    return net\n",
    "\n",
    "def updatePlot(**edges_2_remove):\n",
    "    #print(edges_2_remove)\n",
    "    for edge in list(nx_graph.edges()):\n",
    "        e = nx_graph.edges[edge]\n",
    "        if edges_2_remove[checkbox_values[e[\"value\"]]]:\n",
    "            nx_graph.edges()[(edge[0], edge[1])]['hidden'] = True\n",
    "            nx_graph.edges()[(edge[0], edge[1])]['physics'] = False\n",
    "        else:\n",
    "            nx_graph.edges()[(edge[0], edge[1])]['hidden'] = False\n",
    "            nx_graph.edges()[(edge[0], edge[1])]['physics'] = True\n",
    "    net = Network(\"700px\", \"1400px\", notebook=True, heading=\"\")\n",
    "    net.from_nx(nx_graph)\n",
    "    return net.show(\"Network.html\")\n",
    "\n",
    "# Returns \"value\":\"(count) value\"\n",
    "def extract_edge_values(nx_graph):\n",
    "    edge_values = [nx_graph.edges[edge][\"value\"] for edge in list(nx_graph.edges())] # Get values from edges \n",
    "    edge_values_counts = [[v, edge_values.count(v)] for v in set(edge_values)] # Count number of times each value occurs\n",
    "    return {x:\"({1}) {0}\".format(x, y) for x, y in sorted(edge_values_counts, key=lambda x: x[1], reverse=True)} # Sort values by count and return value+count string\n",
    "\n",
    "\n",
    "nx_graph = make_Networkx_graph(nodes_file = \"combined_HostSymbiont.magi_gene_results.filtered.RHEA_Annots.txt\", \n",
    "             edges_file = \"combined_HostSymbiont.magi_gene_results.filtered.RHEA_2_RHEA_network_edges.txt\", \n",
    "             files_have_header=True, group_colors={\"Symbiont\":\"#00ff1e\", \"Host\":\"#dd4b39\", \"Both\":\"#162347\"})\n",
    "\n",
    "checkbox_values = extract_edge_values(nx_graph)\n",
    "\n",
    "box_layout = Layout(overflow_y='auto',\n",
    "                    border='3px solid black',\n",
    "                    width='',\n",
    "                    height='600px',\n",
    "                    flex_flow='column',\n",
    "                    display='block')\n",
    "\n",
    "checkboxes = [Checkbox(value=False, description=label, continuous_update=True) for label in list(checkbox_values.values())]\n",
    "carousel = VBox(children=checkboxes, layout=box_layout)\n",
    "updatePlot(**{c:False for c in list(checkbox_values.values())}) # Force first update\n",
    "widget=interactive(updatePlot, **{c.description: c.value for c in checkboxes})\n",
    "controls = HBox(widget.children[:-1], layout = box_layout)\n",
    "output = widget.children[-1]\n",
    "display(VBox([controls, output], indent=False))"
   ]
  },
  {
   "cell_type": "code",
   "execution_count": null,
   "metadata": {},
   "outputs": [],
   "source": []
  },
  {
   "cell_type": "code",
   "execution_count": null,
   "metadata": {},
   "outputs": [],
   "source": []
  },
  {
   "cell_type": "code",
   "execution_count": null,
   "metadata": {},
   "outputs": [],
   "source": []
  }
 ],
 "metadata": {
  "kernelspec": {
   "display_name": "Python 3",
   "language": "python",
   "name": "python3"
  },
  "language_info": {
   "codemirror_mode": {
    "name": "ipython",
    "version": 3
   },
   "file_extension": ".py",
   "mimetype": "text/x-python",
   "name": "python",
   "nbconvert_exporter": "python",
   "pygments_lexer": "ipython3",
   "version": "3.8.5"
  }
 },
 "nbformat": 4,
 "nbformat_minor": 4
}
